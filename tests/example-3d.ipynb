{
 "cells": [
  {
   "cell_type": "markdown",
   "id": "f1df5f42-c026-4271-b095-871e5fc22e40",
   "metadata": {},
   "source": [
    "## 3D FDTD"
   ]
  },
  {
   "cell_type": "markdown",
   "id": "4ca5c34b-3b50-4378-9469-703af5a9afe5",
   "metadata": {},
   "source": [
    "### free space"
   ]
  },
  {
   "cell_type": "code",
   "execution_count": 1,
   "id": "f5fe6e71-d5bc-47a2-b628-01fbc42f326c",
   "metadata": {},
   "outputs": [],
   "source": [
    "import fdtd\n",
    "import numpy as np\n",
    "\n",
    "# Create analytical model (medium id:0)\n",
    "media = np.zeros((100,100,100))\n",
    "\n",
    "# cell size [m]\n",
    "ddx = 0.01\n",
    "\n",
    "# input frequency\n",
    "f   = 1e9\n",
    "\n",
    "# constants [εr:relative permittivity　, σ:electrical conductivity]\n",
    "vacuum = [1,0]   # id0\n",
    "constants = [vacuum]\n",
    "\n",
    "# run\n",
    "fd = fdtd.fdtd(media,constants,ddx,f)\n",
    "ani = fd.run_animation(200)\n",
    "ani.save(\"out/3_1.gif\", writer=\"imagemagick\")"
   ]
  },
  {
   "cell_type": "markdown",
   "id": "59b8b68e-3263-4d0b-b350-142330a796cc",
   "metadata": {},
   "source": [
    "<img src=\"out/3_1.gif\">"
   ]
  },
  {
   "cell_type": "markdown",
   "id": "705f6779-785e-4cb8-91b1-fe23b87138a0",
   "metadata": {},
   "source": [
    "### Set media"
   ]
  },
  {
   "cell_type": "code",
   "execution_count": 2,
   "id": "986679f7-cdd8-4898-b493-bc771f9d4645",
   "metadata": {},
   "outputs": [],
   "source": [
    "import fdtd\n",
    "import numpy as np\n",
    "\n",
    "# Create analytical model (medium id:0)\n",
    "media = np.zeros((100,100,100))\n",
    "\n",
    "# Set medium:id1\n",
    "media[70:75,:,:] = 1\n",
    "\n",
    "# cell size [m]\n",
    "ddx = 0.01\n",
    "\n",
    "# input frequency\n",
    "f   = 1e9\n",
    "\n",
    "# constants [εr:relative permittivity　, σ:electrical conductivity]\n",
    "vacuum = [1,0]   # id0\n",
    "test   = [2,0.5] # id1\n",
    "constants = [vacuum, test]\n",
    "\n",
    "# run\n",
    "grid = fdtd.fdtd(media,constants,ddx,f)\n",
    "ani = grid.run_animation(200)\n",
    "ani.save(\"out/3_2.gif\", writer=\"imagemagick\")"
   ]
  },
  {
   "cell_type": "markdown",
   "id": "8949561f-6e95-4369-b91f-10de6bb59c43",
   "metadata": {},
   "source": [
    "<img src=\"out/3_2.gif\"> "
   ]
  },
  {
   "cell_type": "markdown",
   "id": "4261da49-f161-42a4-956f-1d638cf12271",
   "metadata": {},
   "source": [
    "### free space (PML)"
   ]
  },
  {
   "cell_type": "code",
   "execution_count": 3,
   "id": "bf75800d-20a6-4f08-b796-65050b69959d",
   "metadata": {},
   "outputs": [],
   "source": [
    "import fdtd\n",
    "import numpy as np\n",
    "\n",
    "# Create analytical model (medium id:0)\n",
    "media = np.zeros((100,100,100))\n",
    "\n",
    "# cell size [m]\n",
    "ddx = 0.01\n",
    "\n",
    "# input frequency\n",
    "f   = 1e9\n",
    "\n",
    "# constants [εr:relative permittivity　, σ:electrical conductivity]\n",
    "vacuum = [1,0]   # id0\n",
    "constants = [vacuum]\n",
    "\n",
    "# run\n",
    "grid = fdtd.fdtd(media,constants,ddx,f)\n",
    "grid.set_boundaries('PML')\n",
    "ani = grid.run_animation(200)\n",
    "ani.save(\"out/3_3.gif\", writer=\"imagemagick\")"
   ]
  },
  {
   "cell_type": "markdown",
   "id": "48a4ed97-0547-41ee-a56c-4f6c999fbf26",
   "metadata": {},
   "source": [
    "<img src=\"out/3_3.gif\"> "
   ]
  },
  {
   "cell_type": "markdown",
   "id": "78b255a5-55c0-4df7-af61-c357e3e31ee7",
   "metadata": {},
   "source": [
    "### Set media (PML)"
   ]
  },
  {
   "cell_type": "code",
   "execution_count": 4,
   "id": "b6472a55-b8ef-4056-94de-9129cbcdb329",
   "metadata": {},
   "outputs": [],
   "source": [
    "import fdtd\n",
    "import numpy as np\n",
    "\n",
    "# Create analytical model (medium id:0)\n",
    "media = np.zeros((100,100,100))\n",
    "\n",
    "# Set medium:id1\n",
    "media[70:75,:,:] = 1\n",
    "\n",
    "# cell size [m]\n",
    "ddx = 0.01\n",
    "\n",
    "# input frequency\n",
    "f   = 1e9\n",
    "\n",
    "# constants [εr:relative permittivity　, σ:electrical conductivity]\n",
    "vacuum = [1,0]   # id0\n",
    "test   = [2,0.5] # id1\n",
    "constants = [vacuum, test]\n",
    "\n",
    "# run\n",
    "grid = fdtd.fdtd(media,constants,ddx,f)\n",
    "grid.set_boundaries('PML')\n",
    "ani = grid.run_animation(200)\n",
    "ani.save(\"out/3_4.gif\", writer=\"imagemagick\")"
   ]
  },
  {
   "cell_type": "markdown",
   "id": "83c1ae03-8cf7-4b3c-a8f9-0cc00072a74e",
   "metadata": {},
   "source": [
    "<img src=\"out/3_4.gif\"> "
   ]
  }
 ],
 "metadata": {
  "kernelspec": {
   "display_name": "Python 3 (ipykernel)",
   "language": "python",
   "name": "python3"
  },
  "language_info": {
   "codemirror_mode": {
    "name": "ipython",
    "version": 3
   },
   "file_extension": ".py",
   "mimetype": "text/x-python",
   "name": "python",
   "nbconvert_exporter": "python",
   "pygments_lexer": "ipython3",
   "version": "3.8.10"
  }
 },
 "nbformat": 4,
 "nbformat_minor": 5
}
