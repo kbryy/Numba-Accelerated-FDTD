{
 "cells": [
  {
   "cell_type": "markdown",
   "id": "36c21ad3-a951-4897-971a-be02b12bb168",
   "metadata": {},
   "source": [
    "## 1D FDTD"
   ]
  },
  {
   "cell_type": "markdown",
   "id": "24b934cc-3c44-4535-8a5d-d625b8d7070a",
   "metadata": {},
   "source": [
    "### free space"
   ]
  },
  {
   "cell_type": "code",
   "execution_count": null,
   "id": "a2cdc95b-85ae-4859-b957-0db8c4fa4d05",
   "metadata": {},
   "outputs": [],
   "source": [
    "import fdtd\n",
    "import numpy as np\n",
    "\n",
    "# Create analytical model (medium id:0)\n",
    "media = np.zeros(100)\n",
    "\n",
    "# cell size [m]\n",
    "ddx = 0.01\n",
    "\n",
    "# input frequency\n",
    "f   = 1e9\n",
    "\n",
    "# constants [εr:relative permittivity　, σ:electrical conductivity]\n",
    "vacuum = [1,0]   # id0\n",
    "constants = [vacuum]\n",
    "\n",
    "# run\n",
    "grid = fdtd.fdtd(media,constants,ddx,f)\n",
    "ani = grid.run_animation(200)\n",
    "ani.save(\"out/1_1.gif\", writer=\"imagemagick\")"
   ]
  },
  {
   "cell_type": "markdown",
   "id": "e8efb7b7-06b3-411b-a9c6-1c78b5d45df4",
   "metadata": {},
   "source": [
    "<img src=\"out/1_1.gif\">"
   ]
  },
  {
   "cell_type": "markdown",
   "id": "d55074d3-531a-4a77-806b-24ffb9077905",
   "metadata": {},
   "source": [
    "### Set media"
   ]
  },
  {
   "cell_type": "code",
   "execution_count": 3,
   "id": "af0fae3a-d400-49de-ad20-76e09786bc8e",
   "metadata": {},
   "outputs": [],
   "source": [
    "import fdtd\n",
    "import numpy as np\n",
    "\n",
    "# Create analytical model (medium id:0)\n",
    "media = np.zeros(100)\n",
    "\n",
    "# Set medium:id1\n",
    "media[70:75] = 1\n",
    "\n",
    "# cell size [m]\n",
    "ddx = 0.01\n",
    "\n",
    "# input frequency\n",
    "f   = 1e9\n",
    "\n",
    "# constants [εr:relative permittivity　, σ:electrical conductivity]\n",
    "vacuum = [1,0]   # id0\n",
    "test   = [2,0.5] # id1\n",
    "constants = [vacuum, test]\n",
    "\n",
    "# run\n",
    "grid = fdtd.fdtd(media,constants,ddx,f)\n",
    "ani = grid.run_animation(200)\n",
    "ani.save(\"out/1_2.gif\", writer=\"imagemagick\")"
   ]
  },
  {
   "cell_type": "markdown",
   "id": "22543d47-b4fe-448b-b36e-24eaa12eab82",
   "metadata": {},
   "source": [
    "<img src=\"out/1_2.gif\">"
   ]
  }
 ],
 "metadata": {
  "kernelspec": {
   "display_name": "Python 3 (ipykernel)",
   "language": "python",
   "name": "python3"
  },
  "language_info": {
   "codemirror_mode": {
    "name": "ipython",
    "version": 3
   },
   "file_extension": ".py",
   "mimetype": "text/x-python",
   "name": "python",
   "nbconvert_exporter": "python",
   "pygments_lexer": "ipython3",
   "version": "3.8.10"
  }
 },
 "nbformat": 4,
 "nbformat_minor": 5
}
