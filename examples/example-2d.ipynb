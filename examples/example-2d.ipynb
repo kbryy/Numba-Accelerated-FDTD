{
 "cells": [
  {
   "cell_type": "markdown",
   "id": "76ad00e2-0cd8-4e67-8923-bb86da9de7f0",
   "metadata": {},
   "source": [
    "## 2D FDTD (TE)"
   ]
  },
  {
   "cell_type": "markdown",
   "id": "4ab19480-de0f-4143-ae2e-65c01182a130",
   "metadata": {},
   "source": [
    "### free space "
   ]
  },
  {
   "cell_type": "code",
   "execution_count": 1,
   "id": "f80cc6f2-6587-4251-ab82-fa09b77982a3",
   "metadata": {},
   "outputs": [],
   "source": [
    "import fdtd\n",
    "import numpy as np\n",
    "\n",
    "# Create analytical model (medium id:0)\n",
    "media = np.zeros((100,100))\n",
    "\n",
    "# cell size [m]\n",
    "ddx = 0.01\n",
    "\n",
    "# input frequency\n",
    "f   = 1e9\n",
    "\n",
    "# constants [εr:relative permittivity　, σ:electrical conductivity]\n",
    "vacuum = [1,0]   # id0\n",
    "constants = [vacuum]\n",
    "\n",
    "# run\n",
    "grid = fdtd.fdtd(media,constants,ddx,f)\n",
    "ani = grid.run_animation(200)\n",
    "ani.save(\"out/2_1.gif\", writer=\"imagemagick\")"
   ]
  },
  {
   "cell_type": "markdown",
   "id": "0bb4c152-0df9-4cba-9cbe-3de388c89bfa",
   "metadata": {},
   "source": [
    "<img src=\"out/2_1.gif\">"
   ]
  },
  {
   "cell_type": "markdown",
   "id": "ccc146e2-7f57-4f34-8fd1-2060beaaa408",
   "metadata": {},
   "source": [
    "### Set media"
   ]
  },
  {
   "cell_type": "code",
   "execution_count": 2,
   "id": "d765deea-e065-43aa-bcab-494d655b8b5e",
   "metadata": {},
   "outputs": [],
   "source": [
    "import fdtd\n",
    "import numpy as np\n",
    "\n",
    "# Create analytical model (medium id:0)\n",
    "media = np.zeros((100,100))\n",
    "\n",
    "# Set medium:id1\n",
    "media[70:75,:] = 1\n",
    "\n",
    "# cell size [m]\n",
    "ddx = 0.01\n",
    "\n",
    "# input frequency\n",
    "f   = 1e9\n",
    "\n",
    "# constants [εr:relative permittivity　, σ:electrical conductivity]\n",
    "vacuum = [1,0]   # id0\n",
    "test   = [2,0.5] # id1\n",
    "constants = [vacuum, test]\n",
    "\n",
    "# run\n",
    "grid = fdtd.fdtd(media,constants,ddx,f)\n",
    "ani = grid.run_animation(200)\n",
    "ani.save(\"out/2_2.gif\", writer=\"imagemagick\")"
   ]
  },
  {
   "cell_type": "markdown",
   "id": "5caf331c-e45f-4d39-a2e0-e5aed71acf8c",
   "metadata": {},
   "source": [
    "<img src=\"out/2_2.gif\">"
   ]
  },
  {
   "cell_type": "markdown",
   "id": "dbca77a9-e78b-494c-a9a9-f7e188fa5abd",
   "metadata": {},
   "source": [
    "### free space (PML)"
   ]
  },
  {
   "cell_type": "code",
   "execution_count": 3,
   "id": "8a8cf3ea-20a6-4cb8-af39-c1c21a6b70dc",
   "metadata": {},
   "outputs": [],
   "source": [
    "import fdtd\n",
    "import numpy as np\n",
    "\n",
    "# Create analytical model (medium id:0)\n",
    "media = np.zeros((100,100))\n",
    "\n",
    "# cell size [m]\n",
    "ddx = 0.01\n",
    "\n",
    "# input frequency\n",
    "f   = 1e9\n",
    "\n",
    "# constants [εr:relative permittivity　, σ:electrical conductivity]\n",
    "vacuum = [1,0]   # id0\n",
    "constants = [vacuum]\n",
    "\n",
    "# run\n",
    "grid = fdtd.fdtd(media,constants,ddx,f)\n",
    "grid.set_boundaries('PML')\n",
    "ani = grid.run_animation(200)\n",
    "ani.save(\"out/2_3.gif\", writer=\"imagemagick\")"
   ]
  },
  {
   "cell_type": "markdown",
   "id": "f38724f4-3d8c-4041-8608-8a38d50f397e",
   "metadata": {},
   "source": [
    "<img src=\"out/2_3.gif\">"
   ]
  },
  {
   "cell_type": "markdown",
   "id": "2093fea2-8f77-4957-bfc6-bd54d798fb5f",
   "metadata": {},
   "source": [
    "### Set media (PML)"
   ]
  },
  {
   "cell_type": "code",
   "execution_count": 4,
   "id": "7689bbd9-61f1-4108-ab88-7c755e88c814",
   "metadata": {},
   "outputs": [],
   "source": [
    "import fdtd\n",
    "import numpy as np\n",
    "\n",
    "# Create analytical model (medium id:0)\n",
    "media = np.zeros((100,100))\n",
    "\n",
    "# Set medium:id1\n",
    "media[70:75,:] = 1\n",
    "\n",
    "# cell size [m]\n",
    "ddx = 0.01\n",
    "\n",
    "# input frequency\n",
    "f   = 1e9\n",
    "\n",
    "# constants [εr:relative permittivity　, σ:electrical conductivity]\n",
    "vacuum = [1,0]   # id0\n",
    "test   = [2,0.5] # id1\n",
    "constants = [vacuum, test]\n",
    "\n",
    "# run\n",
    "grid = fdtd.fdtd(media,constants,ddx,f)\n",
    "grid.set_boundaries('PML')\n",
    "ani = grid.run_animation(200)\n",
    "ani.save(\"out/2_4.gif\", writer=\"imagemagick\")"
   ]
  },
  {
   "cell_type": "markdown",
   "id": "ca312e93-ef59-4484-9eaa-71a1290ff34e",
   "metadata": {},
   "source": [
    "<img src=\"out/2_4.gif\">"
   ]
  }
 ],
 "metadata": {
  "kernelspec": {
   "display_name": "Python 3 (ipykernel)",
   "language": "python",
   "name": "python3"
  },
  "language_info": {
   "codemirror_mode": {
    "name": "ipython",
    "version": 3
   },
   "file_extension": ".py",
   "mimetype": "text/x-python",
   "name": "python",
   "nbconvert_exporter": "python",
   "pygments_lexer": "ipython3",
   "version": "3.8.10"
  }
 },
 "nbformat": 4,
 "nbformat_minor": 5
}
